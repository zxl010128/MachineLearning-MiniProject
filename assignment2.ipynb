{
 "cells": [
  {
   "cell_type": "markdown",
   "metadata": {},
   "source": [
    "\n",
    "# COMP3411/9418 21T0 Assignment 2\n",
    "\n",
    "- Lecturer: Anna Trofimova\n",
    "- School of Computer Science and Engineering, UNSW Sydney\n",
    "- Last Update 26th January at 07:00am, 2021\n",
    "$$\n",
    "% macros\n",
    "\\newcommand{\\indep}{\\perp \\!\\!\\!\\perp}\n",
    "$$"
   ]
  },
  {
   "cell_type": "markdown",
   "metadata": {},
   "source": [
    "### Motivation\n",
    "\n",
    "Imagine that you have been hired as a Data Scientist by Amazon, and your first task is to evaluate customer sentiment towards their products. Many online stores selling Amazon products provide their customers with an option to leave a review, but they might not have a rating system, or the customers might choose to leave a review without rating. However, you still want to use these reviews in your report. Thus, you need to develop a reliable model that can automatically assign setiment given a review.\n",
    "\n",
    "To develop your model, you have been given a collection of customer reviews on products like Alexa Echo, Echo dots, Alexa Firesticks etc. with their corresponding ratings. The ratings vary from 1 to 5, but to simplify the problem, you will consider reviews with ratings 1 & 2 to have negative sentiment, with 3 having neutral sentiment,  and 4 & 5 having positive sentiment.\n",
    "* Negative: 1 & 2\n",
    "* Neutral: 3\n",
    "* Positive: 4 & 5\n"
   ]
  },
  {
   "cell_type": "markdown",
   "metadata": {},
   "source": [
    "### Description\n",
    "\n",
    "When working with a Jupyter notebook, you can edit the \\*.py files either in the Jupyter interface (in your browser) or with your favorite editor (e.g., PyCharm). Whenever you save a \\*.py file, the notebook will reload their content directly.\n",
    "\n",
    "**Do not create new markdown cells, if you want to comment on something then use Raw NBConvert cells.**\n",
    "\n",
    "Below are the libraries that you can use (and need) in this assignment. If you want to use a library that is not in the list then send us an email to confirm (use course email). \n",
    "\n",
    "Run the code below to import the libraries."
   ]
  },
  {
   "cell_type": "code",
   "execution_count": 32,
   "metadata": {},
   "outputs": [],
   "source": [
    "%matplotlib inline\n",
    "import pandas as pd\n",
    "from sklearn.feature_extraction.text import CountVectorizer\n",
    "\n",
    "from sklearn.naive_bayes import MultinomialNB\n",
    "from sklearn.neural_network import MLPClassifier\n",
    "from sklearn import tree\n",
    "from sklearn.tree import export_graphviz\n",
    "\n",
    "from sklearn.metrics import classification_report\n",
    "from sklearn.model_selection import train_test_split\n",
    "from nltk.corpus import stopwords\n",
    "\n",
    "import graphviz\n",
    "from graphviz import Source\n",
    "from matplotlib import pyplot as plt\n",
    "\n",
    "import re\n",
    "import copy\n",
    "\n",
    "#  If you experience problems with downloading stopwords, uncomment and run the code below.\n",
    "#  It will launch NLTK Downloader application so you can download stopwords corpora manually.\n",
    "\n",
    "# import nltk\n",
    "# import ssl\n",
    "\n",
    "# try:\n",
    "#     _create_unverified_https_context = ssl._create_unverified_context\n",
    "# except AttributeError:\n",
    "#     pass\n",
    "# else:\n",
    "#     ssl._create_default_https_context = _create_unverified_https_context\n",
    "\n",
    "# nltk.download()"
   ]
  },
  {
   "cell_type": "markdown",
   "metadata": {},
   "source": [
    "### Part 1 - Data [2 marks]\n",
    "\n",
    "In this part of the assignment you need to import the Amazon reviews dataset and analyse its main properties.\n",
    "\n",
    "#### Task 1.1\n",
    "Import the dataset from *amazon_alexa.tsv* file, save it into the variable *data* and change the rating labels as follow: \n",
    " {1: 'negative', 2: 'negative', 3: 'neutral', 4: 'positive', 5: 'positive'}."
   ]
  },
  {
   "cell_type": "code",
   "execution_count": 5,
   "metadata": {},
   "outputs": [],
   "source": [
    "# your code\n",
    "\n",
    "AmazonData = pd.read_csv (\"amazon_alexa.tsv\", sep = '\\t')\n",
    "AmazonData['rating'].replace({1: 'negative', 2: 'negative', 3: 'neutral', 4: 'positive', 5: 'positive'}, inplace=True)\n",
    "data = AmazonData"
   ]
  },
  {
   "cell_type": "markdown",
   "metadata": {},
   "source": [
    "Run the code below to plot the data distribution:"
   ]
  },
  {
   "cell_type": "code",
   "execution_count": 6,
   "metadata": {},
   "outputs": [
    {
     "data": {
      "text/plain": [
       "<AxesSubplot:>"
      ]
     },
     "execution_count": 6,
     "metadata": {},
     "output_type": "execute_result"
    },
    {
     "data": {
      "image/png": "[encoded data removed]",
      "text/plain": [
       "<Figure size 432x288 with 1 Axes>"
      ]
     },
     "metadata": {
      "needs_background": "light"
     },
     "output_type": "display_data"
    }
   ],
   "source": [
    "data['rating'].value_counts().plot(kind='bar')"
   ]
  },
  {
   "cell_type": "markdown",
   "metadata": {},
   "source": [
    "Give a simple description of the class frequency distribution across the full dataset. What do you notice about the distribution? "
   ]
  },
  {
   "cell_type": "raw",
   "metadata": {},
   "source": [
    "# Across the full dataset, we can see there are 3 classes named 'postive', 'nagative' and 'neutral' respectively. As shown in the coloum graph, it has more than 2,500 positive rating, where as the nagative rating and neutral rating are less than 500. The number of negative rating is slightly higher then the number of neutral rating."
   ]
  },
  {
   "cell_type": "markdown",
   "metadata": {},
   "source": [
    "#### Task 1.2\n",
    "\n",
    "To reduce computation time in this task, your will use only the 1000 most frequent tokens from the vocabulary as attributes. Run the code below to convert the input text samples into a document-term matrix:"
   ]
  },
  {
   "cell_type": "code",
   "execution_count": 7,
   "metadata": {},
   "outputs": [
    {
     "data": {
      "text/html": [
       "<div>\n",
       "<style scoped>\n",
       "    .dataframe tbody tr th:only-of-type {\n",
       "        vertical-align: middle;\n",
       "    }\n",
       "\n",
       "    .dataframe tbody tr th {\n",
       "        vertical-align: top;\n",
       "    }\n",
       "\n",
       "    .dataframe thead th {\n",
       "        text-align: right;\n",
       "    }\n",
       "</style>\n",
       "<table border=\"1\" class=\"dataframe\">\n",
       "  <thead>\n",
       "    <tr style=\"text-align: right;\">\n",
       "      <th></th>\n",
       "      <th>!</th>\n",
       "      <th>!!</th>\n",
       "      <th>&amp;</th>\n",
       "      <th>&amp;#34;Alexa,</th>\n",
       "      <th>&amp;#34;Things</th>\n",
       "      <th>(which</th>\n",
       "      <th>,</th>\n",
       "      <th>-</th>\n",
       "      <th>--</th>\n",
       "      <th>.</th>\n",
       "      <th>...</th>\n",
       "      <th>worth</th>\n",
       "      <th>would</th>\n",
       "      <th>wouldn't</th>\n",
       "      <th>year</th>\n",
       "      <th>years</th>\n",
       "      <th>yet</th>\n",
       "      <th>yet.</th>\n",
       "      <th>you</th>\n",
       "      <th>you're</th>\n",
       "      <th>your</th>\n",
       "    </tr>\n",
       "  </thead>\n",
       "  <tbody>\n",
       "    <tr>\n",
       "      <th>0</th>\n",
       "      <td>0</td>\n",
       "      <td>0</td>\n",
       "      <td>0</td>\n",
       "      <td>0</td>\n",
       "      <td>0</td>\n",
       "      <td>0</td>\n",
       "      <td>0</td>\n",
       "      <td>0</td>\n",
       "      <td>0</td>\n",
       "      <td>0</td>\n",
       "      <td>...</td>\n",
       "      <td>0</td>\n",
       "      <td>0</td>\n",
       "      <td>0</td>\n",
       "      <td>0</td>\n",
       "      <td>0</td>\n",
       "      <td>0</td>\n",
       "      <td>0</td>\n",
       "      <td>0</td>\n",
       "      <td>0</td>\n",
       "      <td>0</td>\n",
       "    </tr>\n",
       "    <tr>\n",
       "      <th>1</th>\n",
       "      <td>0</td>\n",
       "      <td>0</td>\n",
       "      <td>0</td>\n",
       "      <td>0</td>\n",
       "      <td>0</td>\n",
       "      <td>0</td>\n",
       "      <td>0</td>\n",
       "      <td>0</td>\n",
       "      <td>0</td>\n",
       "      <td>0</td>\n",
       "      <td>...</td>\n",
       "      <td>0</td>\n",
       "      <td>0</td>\n",
       "      <td>0</td>\n",
       "      <td>0</td>\n",
       "      <td>0</td>\n",
       "      <td>0</td>\n",
       "      <td>0</td>\n",
       "      <td>0</td>\n",
       "      <td>0</td>\n",
       "      <td>0</td>\n",
       "    </tr>\n",
       "    <tr>\n",
       "      <th>2</th>\n",
       "      <td>0</td>\n",
       "      <td>0</td>\n",
       "      <td>0</td>\n",
       "      <td>0</td>\n",
       "      <td>0</td>\n",
       "      <td>0</td>\n",
       "      <td>0</td>\n",
       "      <td>0</td>\n",
       "      <td>0</td>\n",
       "      <td>0</td>\n",
       "      <td>...</td>\n",
       "      <td>0</td>\n",
       "      <td>0</td>\n",
       "      <td>0</td>\n",
       "      <td>0</td>\n",
       "      <td>0</td>\n",
       "      <td>0</td>\n",
       "      <td>0</td>\n",
       "      <td>2</td>\n",
       "      <td>0</td>\n",
       "      <td>0</td>\n",
       "    </tr>\n",
       "    <tr>\n",
       "      <th>3</th>\n",
       "      <td>0</td>\n",
       "      <td>0</td>\n",
       "      <td>0</td>\n",
       "      <td>0</td>\n",
       "      <td>0</td>\n",
       "      <td>0</td>\n",
       "      <td>0</td>\n",
       "      <td>0</td>\n",
       "      <td>0</td>\n",
       "      <td>0</td>\n",
       "      <td>...</td>\n",
       "      <td>0</td>\n",
       "      <td>0</td>\n",
       "      <td>0</td>\n",
       "      <td>0</td>\n",
       "      <td>0</td>\n",
       "      <td>0</td>\n",
       "      <td>0</td>\n",
       "      <td>0</td>\n",
       "      <td>0</td>\n",
       "      <td>0</td>\n",
       "    </tr>\n",
       "    <tr>\n",
       "      <th>4</th>\n",
       "      <td>0</td>\n",
       "      <td>0</td>\n",
       "      <td>0</td>\n",
       "      <td>0</td>\n",
       "      <td>0</td>\n",
       "      <td>0</td>\n",
       "      <td>0</td>\n",
       "      <td>0</td>\n",
       "      <td>0</td>\n",
       "      <td>0</td>\n",
       "      <td>...</td>\n",
       "      <td>0</td>\n",
       "      <td>0</td>\n",
       "      <td>0</td>\n",
       "      <td>0</td>\n",
       "      <td>0</td>\n",
       "      <td>0</td>\n",
       "      <td>0</td>\n",
       "      <td>0</td>\n",
       "      <td>0</td>\n",
       "      <td>0</td>\n",
       "    </tr>\n",
       "  </tbody>\n",
       "</table>\n",
       "<p>5 rows × 1000 columns</p>\n",
       "</div>"
      ],
      "text/plain": [
       "   !  !!  &  &#34;Alexa,  &#34;Things  (which  ,  -  --  .  ...  worth  would  \\\n",
       "0  0   0  0            0            0       0  0  0   0  0  ...      0      0   \n",
       "1  0   0  0            0            0       0  0  0   0  0  ...      0      0   \n",
       "2  0   0  0            0            0       0  0  0   0  0  ...      0      0   \n",
       "3  0   0  0            0            0       0  0  0   0  0  ...      0      0   \n",
       "4  0   0  0            0            0       0  0  0   0  0  ...      0      0   \n",
       "\n",
       "   wouldn't  year  years  yet  yet.  you  you're  your  \n",
       "0         0     0      0    0     0    0       0     0  \n",
       "1         0     0      0    0     0    0       0     0  \n",
       "2         0     0      0    0     0    2       0     0  \n",
       "3         0     0      0    0     0    0       0     0  \n",
       "4         0     0      0    0     0    0       0     0  \n",
       "\n",
       "[5 rows x 1000 columns]"
      ]
     },
     "execution_count": 7,
     "metadata": {},
     "output_type": "execute_result"
    }
   ],
   "source": [
    "vectorizer = CountVectorizer(analyzer=lambda x: x.split(), max_features=1000)\n",
    "\n",
    "x_dense = vectorizer.fit_transform(data['verified_reviews'])\n",
    "x_sparse = pd.DataFrame.sparse.from_spmatrix(x_dense, columns=vectorizer.get_feature_names())\n",
    "x_sparse.head()"
   ]
  },
  {
   "cell_type": "markdown",
   "metadata": {},
   "source": [
    "It was written in the helper notebook that the original input representation is bad. Explain why a document-term matrix is a more suitable representation for machine learning tasks with text data."
   ]
  },
  {
   "cell_type": "raw",
   "metadata": {},
   "source": [
    "# A document-term matrix is a mathematical matrix that describes the frequency of terms that occur in the original input. It helps us to pre-process the data, and count the times of terms that appear in each review. We could easily use the data provided by the matrix to do analysis. If we don't transform the original input into the document-term matrix, we need to do heavy work on preparation(such as loop all the reviews, count the number of each term and store them in a dictionary)."
   ]
  },
  {
   "cell_type": "markdown",
   "metadata": {},
   "source": [
    "Two variables *x_dense* and *x_sparce* both represent input data in a document-term form. Explain which one is preferable and why."
   ]
  },
  {
   "cell_type": "raw",
   "metadata": {},
   "source": [
    "# I think x_sparce is preferable. The advantage of x_dense is that it ignores the 0 value as well as store the index instead of the terms. So the memory used is quite low and the processing time is faster. Although x_sparse doesn't store index, x_sparse is more visual, which means we can easily plot this data as a table. It is clear for users to use the data at the beginning. At the same time, the formed matrix also has the mathematical meaning, which means that it is easier to compute the data directly through python modules such as pandas. It is also helpful for the computer to analyse the data."
   ]
  },
  {
   "cell_type": "markdown",
   "metadata": {},
   "source": [
    "### Part 2 - Decision Tree [2 marks]\n",
    "\n",
    "In this part you need to evaluate how classifier hyperparameters affect their performance. Consider a Decision Tree classifier that splits attributes based on the lowest entropy. For performance evaluation, assume that only the top 1000 most frequent tokens are used as attributes. The first 60% of samples should constitute the traing set while the remaining 40% of samples should constitute the test set.\n",
    "\n",
    "#### Task 2.1\n",
    "In the cell below place your code that computes performance measures for decision trees with different depth limits. <br> \n",
    "Consider the following cases: max_depth = 5, 10, 100, 200, None."
   ]
  },
  {
   "cell_type": "code",
   "execution_count": 8,
   "metadata": {},
   "outputs": [
    {
     "name": "stdout",
     "output_type": "stream",
     "text": [
      "======================================================\n",
      "===================== Depth: 5 ====================\n",
      "\n",
      "              precision    recall  f1-score   support\n",
      "\n",
      "    negative       0.40      0.07      0.12       108\n",
      "     neutral       0.07      0.01      0.02        67\n",
      "    positive       0.87      0.98      0.92      1085\n",
      "\n",
      "    accuracy                           0.85      1260\n",
      "   macro avg       0.45      0.36      0.36      1260\n",
      "weighted avg       0.79      0.85      0.80      1260\n",
      "\n",
      "======================================================\n",
      "===================== Depth: 10 ====================\n",
      "\n",
      "              precision    recall  f1-score   support\n",
      "\n",
      "    negative       0.32      0.09      0.14       108\n",
      "     neutral       0.00      0.00      0.00        67\n",
      "    positive       0.87      0.97      0.92      1085\n",
      "\n",
      "    accuracy                           0.84      1260\n",
      "   macro avg       0.40      0.35      0.35      1260\n",
      "weighted avg       0.78      0.84      0.80      1260\n",
      "\n",
      "======================================================\n",
      "===================== Depth: 100 ====================\n",
      "\n",
      "              precision    recall  f1-score   support\n",
      "\n",
      "    negative       0.23      0.22      0.23       108\n",
      "     neutral       0.08      0.07      0.08        67\n",
      "    positive       0.89      0.90      0.90      1085\n",
      "\n",
      "    accuracy                           0.80      1260\n",
      "   macro avg       0.40      0.40      0.40      1260\n",
      "weighted avg       0.79      0.80      0.80      1260\n",
      "\n",
      "======================================================\n",
      "===================== Depth: 200 ====================\n",
      "\n",
      "              precision    recall  f1-score   support\n",
      "\n",
      "    negative       0.22      0.23      0.23       108\n",
      "     neutral       0.07      0.06      0.06        67\n",
      "    positive       0.89      0.90      0.90      1085\n",
      "\n",
      "    accuracy                           0.80      1260\n",
      "   macro avg       0.40      0.40      0.40      1260\n",
      "weighted avg       0.79      0.80      0.79      1260\n",
      "\n",
      "======================================================\n",
      "===================== Depth: None ====================\n",
      "\n",
      "              precision    recall  f1-score   support\n",
      "\n",
      "    negative       0.25      0.25      0.25       108\n",
      "     neutral       0.06      0.06      0.06        67\n",
      "    positive       0.89      0.89      0.89      1085\n",
      "\n",
      "    accuracy                           0.80      1260\n",
      "   macro avg       0.40      0.40      0.40      1260\n",
      "weighted avg       0.79      0.80      0.79      1260\n",
      "\n"
     ]
    }
   ],
   "source": [
    "# your code\n",
    "\n",
    "X_train, X_test, Y_train, Y_test = train_test_split(x_sparse, data['rating'], test_size = 0.4, shuffle=False)\n",
    "\n",
    "for depth in [5,10,100,200,None]:\n",
    "    \n",
    "    print('======================================================')\n",
    "    print(f'===================== Depth: {depth} ====================' + '\\n')\n",
    "\n",
    "    DTClassifier = tree.DecisionTreeClassifier(max_depth=depth)\n",
    "    TrainingModel = DTClassifier.fit(X_train, Y_train)\n",
    "    YModelTest = TrainingModel.predict(X_test)\n",
    "\n",
    "    print(classification_report(Y_test, YModelTest))"
   ]
  },
  {
   "cell_type": "markdown",
   "metadata": {},
   "source": [
    "#### Task 2.2\n",
    "In the cell below explain any difference in performance, and comment on metrics in relation to the depth limit."
   ]
  },
  {
   "cell_type": "raw",
   "metadata": {},
   "source": [
    "# As we can see from the table, the positive class only has a slight improvement on the precision, recall, and f1-score. The reason may include that the proportion of the positive class is really high. Although the depth is not high, it also can have more correctly predicted data. As for the negative class and neutral class, because they have relatively low percentages, the precision, recall, and f1-score are also lower when the depth is 5 and 10. Even the neutral class has a 0 precision and 0 recall when depth is 5. When the depth is higher than 100, we can see that there are several neutral data which has been predicted correctly, and the recall, and f1-score of the negative class also increases moderately. Therefore, it can be concluded that with the increment of depth, the precision, recall, and f1-score will also increase. However the accuracy seems to reduce from depth-10 to depth-100. The probable reason is that the max_depth is set too high. The decision tree becomes more complicated. Then the decision tree might simply overfit the training data without capturing useful patterns as we would like. Therefore, it will cause testing error to increase and accuracy to decrease."
   ]
  },
  {
   "cell_type": "markdown",
   "metadata": {},
   "source": [
    "### Part 3 - Pre-processing [3 marks]\n",
    "\n",
    "In this part, you need to evaluate the effect that the pre-processing of input features has on the performance of three classifiers - Decision Tree (DT), Multinomial Naive Bayes (MNB), and  Artificial Neural Networks (ANN). For a Decision Tree classifier, use the parameters from Part2 but do not limit the depth. For a Artificial Neural Network classifier, set the number of hidden neurons to 200.\n",
    "\n",
    "For the performance evaluation, assume that the first 60% of samples constitutes the traing set while the remaining 40% of samples constitutes the test set. All tokens in the vocabulary should be used as attributes.\n",
    "Consider the following scenarios:\n",
    "1. No data pre-processing\n",
    "2. Removal of URLs and tokens that are not made of strings of letters, numbers, or symbols {’, #, @, $} delimited by spaces.\n",
    "3. Apply (2) and make all tokens lowercase.\n",
    "4. Apply (2), (3) and remove all stop words.\n",
    "\n",
    "#### Task 3.1\n",
    "In the cell below place your code that reflects the four scenarios of feature pre-processing."
   ]
  },
  {
   "cell_type": "code",
   "execution_count": 9,
   "metadata": {
    "scrolled": true
   },
   "outputs": [],
   "source": [
    "# case 1\n",
    "def preprocessing_1(x):\n",
    "    \n",
    "    processedData = x.copy()\n",
    "    return processedData\n",
    "\n",
    "# case 2\n",
    "def preprocessing_2(x):\n",
    "\n",
    "    processedData = x.copy()\n",
    "    processedData['verified_reviews'] = processedData['verified_reviews'].replace('http[s]?://\\S+', '', regex=True)\n",
    "    processedData['verified_reviews'] = processedData['verified_reviews'].replace(r'[^A-Za-z0-9#@$%]{2,}', ' ', regex=True)\n",
    "    processedData['verified_reviews'] = processedData['verified_reviews'].apply(lambda words: ' '.join(word for word in words.split()))    \n",
    "    return processedData\n",
    "\n",
    "# case 3\n",
    "def preprocessing_3(x):\n",
    "\n",
    "    processedData = x.copy()\n",
    "    dataAfterRemoval = preprocessing_2(processedData)\n",
    "    dataAfterRemoval['verified_reviews'] = dataAfterRemoval['verified_reviews'].str.lower()\n",
    "    dataAfterRemoval['verified_reviews'] = dataAfterRemoval['verified_reviews'].apply(lambda words: ' '.join(word for word in words.split())) \n",
    "    return dataAfterRemoval\n",
    "\n",
    "# case 4\n",
    "def preprocessing_4(x):\n",
    "    \n",
    "    stopwordsList = stopwords.words('english')\n",
    "    processedData = x.copy()\n",
    "\n",
    "    dataAfterLower = preprocessing_3(processedData)    \n",
    "    dataAfterLower['verified_reviews'] = dataAfterLower['verified_reviews'].apply(lambda words: ' '.join(word for word in words.split() if word not in stopwordsList))\n",
    "\n",
    "    return dataAfterLower\n"
   ]
  },
  {
   "cell_type": "markdown",
   "metadata": {},
   "source": [
    "#### Task 3.2 \n",
    "\n",
    "In the cell below, place your code that trains and tests all three classifiers. Pre-process your data according on scenario #4."
   ]
  },
  {
   "cell_type": "code",
   "execution_count": 10,
   "metadata": {},
   "outputs": [
    {
     "name": "stdout",
     "output_type": "stream",
     "text": [
      "======================================================\n",
      "=============== DTClassifier Report ==================\n",
      "\n",
      "              precision    recall  f1-score   support\n",
      "\n",
      "    negative       0.37      0.37      0.37       108\n",
      "     neutral       0.17      0.09      0.12        67\n",
      "    positive       0.90      0.93      0.92      1085\n",
      "\n",
      "    accuracy                           0.84      1260\n",
      "   macro avg       0.48      0.46      0.47      1260\n",
      "weighted avg       0.82      0.84      0.83      1260\n",
      "\n",
      "======================================================\n",
      "=============== MNBClassifier Report =================\n",
      "\n",
      "              precision    recall  f1-score   support\n",
      "\n",
      "    negative       0.62      0.37      0.47       108\n",
      "     neutral       0.22      0.16      0.19        67\n",
      "    positive       0.91      0.96      0.93      1085\n",
      "\n",
      "    accuracy                           0.87      1260\n",
      "   macro avg       0.58      0.50      0.53      1260\n",
      "weighted avg       0.85      0.87      0.85      1260\n",
      "\n",
      "======================================================\n",
      "=============== ANNClassifier Report =================\n",
      "\n",
      "              precision    recall  f1-score   support\n",
      "\n",
      "    negative       0.35      0.22      0.27       108\n",
      "     neutral       0.10      0.04      0.06        67\n",
      "    positive       0.90      0.96      0.93      1085\n",
      "\n",
      "    accuracy                           0.85      1260\n",
      "   macro avg       0.45      0.41      0.42      1260\n",
      "weighted avg       0.81      0.85      0.82      1260\n",
      "\n"
     ]
    }
   ],
   "source": [
    "# your code\n",
    "\n",
    "vectorizer = CountVectorizer(analyzer=lambda x: x.split(), max_features=1000)\n",
    "\n",
    "x_dense = vectorizer.fit_transform(preprocessing_4(data)['verified_reviews'])\n",
    "x_sparse = pd.DataFrame.sparse.from_spmatrix(x_dense, columns=vectorizer.get_feature_names())\n",
    "X_train, X_test, Y_train, Y_test = train_test_split(x_sparse, data['rating'], test_size = 0.4, shuffle=False)\n",
    "\n",
    "\n",
    "print('======================================================')\n",
    "print('=============== DTClassifier Report ==================' + '\\n')\n",
    "\n",
    "DTClassifier = tree.DecisionTreeClassifier()\n",
    "TrainingModel = DTClassifier.fit(X_train, Y_train)\n",
    "YModelTest = TrainingModel.predict(X_test)\n",
    "\n",
    "print(classification_report(Y_test, YModelTest))\n",
    "\n",
    "\n",
    "print('======================================================')\n",
    "print('=============== MNBClassifier Report =================' + '\\n')\n",
    "\n",
    "MNBClassifier = MultinomialNB()\n",
    "TrainingModel = MNBClassifier.fit(X_train, Y_train)\n",
    "YModelTest = TrainingModel.predict(X_test)\n",
    "\n",
    "print(classification_report(Y_test, YModelTest))\n",
    "\n",
    "\n",
    "print('======================================================')\n",
    "print('=============== ANNClassifier Report =================' + '\\n')\n",
    "\n",
    "ANNClassifier = MLPClassifier(hidden_layer_sizes=(200,))\n",
    "TrainingModel = ANNClassifier.fit(X_train, Y_train)\n",
    "YModelTest = TrainingModel.predict(X_test)\n",
    "\n",
    "print(classification_report(Y_test, YModelTest))"
   ]
  },
  {
   "cell_type": "markdown",
   "metadata": {},
   "source": [
    "#### Task 3.3\n",
    "\n",
    "Evaluate the effect each pre-processing scenario has on the performance for the three models. In each case. compute the performance metrics. Write your answer in the cell below. "
   ]
  },
  {
   "cell_type": "raw",
   "metadata": {},
   "source": [
    "# Across all these three classifiers, it is clear that after we do the preprocessing2, the accuracy has a slight improvement compared with no data pre-processing. For all three classes(positive, negative, neutral), the precision, recall, and f1-score all increase as well. After we make all tokens lowercase, the accuracy for the Decision Tree classifier goes up from 0.80 to 0.84, and the f1-score of the neutral class also increases dramatically, from 0.05 to 0.21. This shows that preprocessing3 is useful for decision tree classifier to improve accuracy. However, for Multinomial Naive Bayes classifier and Artificial Neural Networks classifier, it seems to be unchanged. The data provided by reports are close. After we remove stopwords from the reviews(proprecessing4), the accuracy for both Decision Tree classifier and Artificial Neural Networks classifier decreases. The accuracy for Multinomial Naive Bayes classifier remains unchanged. The reason may be varied. For example, A customer who gave a negative rating may leave a review \"I don't like it\". A customer who gave a positive rating may leave a review \"I like it\". After we removed the stopwords, these two reviews only contained \"like\". Therefore, this situation will cause the wrong predicted rate increases.\n",
    "  In conclusion, we can conclude that preprocessing2 and preprocessing3 help machines to increase the accuracy of training, whereas preprocessing4 is not a good method. When we do the same preprocessing, it should also be mentioned that Multinomial Naive Bayes classifier performs better than other two classifiers with higher accuracy and higher correctly predicted rate. "
   ]
  },
  {
   "cell_type": "markdown",
   "metadata": {},
   "source": [
    "## Part 4 [5 marks]\n",
    "\n",
    "In this part, you need to evaluate how the number of features and classes affects the performance of the three classifiers - Decision Tree (DT), Multinomial Naive Bayes (MNB), and Artificial Neural Networks (ANN). For a Decision Tree classifier, use the parameters from Part 2 but do not limit the depth. For a Artificial Neural Network classifier set the number of hidden neurons to 200.\n",
    "\n",
    "For the performance evaluation, assume that the first 60% of samples constitute the traing set while the remaining 40% of samples constitute the test set."
   ]
  },
  {
   "cell_type": "markdown",
   "metadata": {},
   "source": [
    "#### Task 4.1\n",
    "\n",
    "Consider the following scenarios for attributes:\n",
    "\n",
    "1. Attributes are all tokens in the vocabulary\n",
    "2. Attributes are the top 1000 most frequent tokens in the vocabulary\n",
    "3. Attributes are the top 100 most frequent tokens in the vocabulary\n",
    "4. Attributes are the top 10 most frequent tokens in the vocabulary\n",
    "\n",
    "In the cell below, place your code that returns a document-term representation given the number of attributes."
   ]
  },
  {
   "cell_type": "code",
   "execution_count": 11,
   "metadata": {},
   "outputs": [],
   "source": [
    "# your code\n",
    "\n",
    "def limit_attributes(x, n_attributes):\n",
    "    \n",
    "    vectorizer = CountVectorizer(analyzer=lambda x: x.split(), max_features=n_attributes)\n",
    "\n",
    "    x_dense = vectorizer.fit_transform(x['verified_reviews'])\n",
    "    x_sparse = pd.DataFrame.sparse.from_spmatrix(x_dense, columns=vectorizer.get_feature_names())\n",
    "\n",
    "    return x_sparse"
   ]
  },
  {
   "cell_type": "markdown",
   "metadata": {},
   "source": [
    "#### Task 4.2 \n",
    "\n",
    "In the cell below, place your code that trains and tests all three classifiers. Limit the number of attributes according on scenario #4."
   ]
  },
  {
   "cell_type": "code",
   "execution_count": 265,
   "metadata": {},
   "outputs": [
    {
     "name": "stdout",
     "output_type": "stream",
     "text": [
      "======================================================\n",
      "=============== DTClassifier Report ==================\n",
      "\n",
      "              precision    recall  f1-score   support\n",
      "\n",
      "    negative       0.17      0.14      0.15       108\n",
      "     neutral       0.07      0.06      0.06        67\n",
      "    positive       0.88      0.90      0.89      1085\n",
      "\n",
      "    accuracy                           0.79      1260\n",
      "   macro avg       0.37      0.37      0.37      1260\n",
      "weighted avg       0.77      0.79      0.78      1260\n",
      "\n",
      "======================================================\n",
      "=============== MNBClassifier Report =================\n",
      "\n",
      "              precision    recall  f1-score   support\n",
      "\n",
      "    negative       1.00      0.02      0.04       108\n",
      "     neutral       0.00      0.00      0.00        67\n",
      "    positive       0.86      1.00      0.93      1085\n",
      "\n",
      "    accuracy                           0.86      1260\n",
      "   macro avg       0.62      0.34      0.32      1260\n",
      "weighted avg       0.83      0.86      0.80      1260\n",
      "\n",
      "======================================================\n",
      "=============== ANNClassifier Report =================\n",
      "\n",
      "              precision    recall  f1-score   support\n",
      "\n",
      "    negative       0.38      0.06      0.10       108\n",
      "     neutral       0.07      0.01      0.02        67\n",
      "    positive       0.87      0.99      0.92      1085\n",
      "\n",
      "    accuracy                           0.85      1260\n",
      "   macro avg       0.44      0.35      0.35      1260\n",
      "weighted avg       0.79      0.85      0.81      1260\n",
      "\n"
     ]
    },
    {
     "name": "stderr",
     "output_type": "stream",
     "text": [
      "/Users/zhangxinlei/Library/Python/3.8/lib/python/site-packages/sklearn/neural_network/_multilayer_perceptron.py:614: ConvergenceWarning: Stochastic Optimizer: Maximum iterations (200) reached and the optimization hasn't converged yet.\n",
      "  warnings.warn(\n"
     ]
    }
   ],
   "source": [
    "# your code\n",
    "\n",
    "x_sparse = limit_attributes(data, 10)\n",
    "X_train, X_test, Y_train, Y_test = train_test_split(x_sparse, data['rating'], test_size = 0.4, shuffle=False)\n",
    "\n",
    "print('======================================================')\n",
    "print('=============== DTClassifier Report ==================' + '\\n')\n",
    "\n",
    "DTClassifier = tree.DecisionTreeClassifier()\n",
    "TrainingModel = DTClassifier.fit(X_train, Y_train)\n",
    "YModelTest = TrainingModel.predict(X_test)\n",
    "\n",
    "print(classification_report(Y_test, YModelTest))\n",
    "\n",
    "\n",
    "print('======================================================')\n",
    "print('=============== MNBClassifier Report =================' + '\\n')\n",
    "\n",
    "MNBClassifier = MultinomialNB()\n",
    "TrainingModel = MNBClassifier.fit(X_train, Y_train)\n",
    "YModelTest = TrainingModel.predict(X_test)\n",
    "\n",
    "print(classification_report(Y_test, YModelTest))\n",
    "\n",
    "\n",
    "print('======================================================')\n",
    "print('=============== ANNClassifier Report =================' + '\\n')\n",
    "\n",
    "ANNClassifier = MLPClassifier(hidden_layer_sizes=(200,))\n",
    "TrainingModel = ANNClassifier.fit(X_train, Y_train)\n",
    "YModelTest = TrainingModel.predict(X_test)\n",
    "\n",
    "print(classification_report(Y_test, YModelTest))"
   ]
  },
  {
   "cell_type": "markdown",
   "metadata": {},
   "source": [
    "#### Task 4.3\n",
    "\n",
    "Evaluate the effect each scenario has on the performance for the three models based on the performance metrics. Explain the differences in the performance. Write your answer in the cell below."
   ]
  },
  {
   "cell_type": "raw",
   "metadata": {},
   "source": [
    "# According to the performance reports, the scenario 1 has the best performance(no limit on the number of frequent tokens). All three classifiers have a 0.85 accuracy at least. When we strat to restrict the number of frequent tokens (scenario 2), the accuracy for Decision Tree classifier goes down moderately from 0.85 to 0.80, whereas the accuracy for Multinomial Naive Bayes classifier and Artificial Neural Networks classifier stay the same or slightly reduce. When the restriction becomes more strict (scenario 3 and scenario 4), the accuracy only has slight changes across all three classifiers(around 0,1 reduction). But for the precision, recall, and f1-score, we could see that the positive class is still unchanged, whereas the negative class has a decreasing sharply. For the neutral class, the data seems to fluctuate. The reason why accuracy does not reduce too much might be the proportion of positive reviews is much higher than the proportion of negative reviews and neutral reviews. The reduction on negative class and neutral class only have a slight influence on the accuracy of the model. As for the neutral class, the reason why the value seems to fluctuate may be the sample size is really rare, therefore the result will be less accurate.\n",
    "  In conclusion, we can see that the restriction of frequent tokens does have an impact on the accuracy of the model. The less number the restriction has, the less accurate the model has."
   ]
  },
  {
   "cell_type": "markdown",
   "metadata": {},
   "source": [
    "#### Task 4.4\n",
    "\n",
    "Remove all samples with neutral sentiment from the dataset. Train and test all three models on this new dataset, computing the preformance measures as well. Assume that the first 60% of samples constitute the traing set while the remaining 40% of samples constitute the test set. All tokens in the vocabulary should be used as attributes.\n",
    "\n",
    "Place your code in the cell below."
   ]
  },
  {
   "cell_type": "code",
   "execution_count": 266,
   "metadata": {},
   "outputs": [
    {
     "name": "stdout",
     "output_type": "stream",
     "text": [
      "======================================================\n",
      "=============== DTClassifier Report ==================\n",
      "\n",
      "              precision    recall  f1-score   support\n",
      "\n",
      "    negative       0.33      0.17      0.23       109\n",
      "    positive       0.92      0.97      0.94      1091\n",
      "\n",
      "    accuracy                           0.89      1200\n",
      "   macro avg       0.63      0.57      0.59      1200\n",
      "weighted avg       0.87      0.89      0.88      1200\n",
      "\n",
      "======================================================\n",
      "=============== MNBClassifier Report =================\n",
      "\n",
      "              precision    recall  f1-score   support\n",
      "\n",
      "    negative       0.34      0.12      0.18       109\n",
      "    positive       0.92      0.98      0.95      1091\n",
      "\n",
      "    accuracy                           0.90      1200\n",
      "   macro avg       0.63      0.55      0.56      1200\n",
      "weighted avg       0.87      0.90      0.88      1200\n",
      "\n",
      "======================================================\n",
      "=============== ANNClassifier Report =================\n",
      "\n",
      "              precision    recall  f1-score   support\n",
      "\n",
      "    negative       0.69      0.28      0.40       109\n",
      "    positive       0.93      0.99      0.96      1091\n",
      "\n",
      "    accuracy                           0.92      1200\n",
      "   macro avg       0.81      0.64      0.68      1200\n",
      "weighted avg       0.91      0.92      0.91      1200\n",
      "\n"
     ]
    }
   ],
   "source": [
    "# your code\n",
    "\n",
    "def processingRemoveNeural(x):\n",
    "    \n",
    "    frameData = x.copy()\n",
    "\n",
    "    frameData.drop(frameData[frameData['rating'] == 'neutral'].index, inplace=True)\n",
    "    \n",
    "    frameData.reset_index(drop=True, inplace=True)\n",
    "\n",
    "    return frameData\n",
    "\n",
    "\n",
    "dataProcessed = processingRemoveNeural(data)\n",
    "\n",
    "vectorizer = CountVectorizer(analyzer=lambda x: x.split())\n",
    "\n",
    "x_dense = vectorizer.fit_transform(dataProcessed['verified_reviews'])\n",
    "x_sparse = pd.DataFrame.sparse.from_spmatrix(x_dense, columns=vectorizer.get_feature_names())\n",
    "X_train, X_test, Y_train, Y_test = train_test_split(x_sparse, dataProcessed['rating'], test_size = 0.4, shuffle=False)\n",
    "\n",
    "\n",
    "print('======================================================')\n",
    "print('=============== DTClassifier Report ==================' + '\\n')\n",
    "\n",
    "DTClassifier = tree.DecisionTreeClassifier()\n",
    "TrainingModel = DTClassifier.fit(X_train, Y_train)\n",
    "YModelTest = TrainingModel.predict(X_test)\n",
    "\n",
    "print(classification_report(Y_test, YModelTest))\n",
    "\n",
    "\n",
    "print('======================================================')\n",
    "print('=============== MNBClassifier Report =================' + '\\n')\n",
    "\n",
    "MNBClassifier = MultinomialNB()\n",
    "TrainingModel = MNBClassifier.fit(X_train, Y_train)\n",
    "YModelTest = TrainingModel.predict(X_test)\n",
    "\n",
    "print(classification_report(Y_test, YModelTest))\n",
    "\n",
    "\n",
    "print('======================================================')\n",
    "print('=============== ANNClassifier Report =================' + '\\n')\n",
    "\n",
    "ANNClassifier = MLPClassifier(hidden_layer_sizes=(200,))\n",
    "TrainingModel = ANNClassifier.fit(X_train, Y_train)\n",
    "YModelTest = TrainingModel.predict(X_test)\n",
    "\n",
    "print(classification_report(Y_test, YModelTest))"
   ]
  },
  {
   "cell_type": "markdown",
   "metadata": {},
   "source": [
    "#### Task 4.5\n",
    "Compare these results to the results obtained in scenario #1 (part 4). Is there any difference in the metrics for either of the classes (i.e. consider positive and negative classes individually)?"
   ]
  },
  {
   "cell_type": "raw",
   "metadata": {},
   "source": [
    "# After we remove the neutral class, we can see that the accuracies for these three classifiers are all increase dramatically, and all of these have reached 0.89. More specifically, for the positive class and negative class, the value of precision, recall, and f1-score increase obviously as well, which means that the correctly prediected cases increases in Y_test and Y_predicted."
   ]
  },
  {
   "cell_type": "markdown",
   "metadata": {},
   "source": [
    "## Part 5 [8 marks]\n",
    "\n",
    "In this part you need to develop your own method (pipeline) for sentiment analysis. You can create new code cells (to place your code) and Raw NBConvert cells (to descibe the steps you are taking to develop your model, or make a comment).\n",
    "\n",
    "You can use either Decision Tree, Multinomial Naive Bayes (MNB), or Artificial Neural Network (ANN) classifiers. If you use parameters for your classifier, the you need to justify the values that you chose for them in writing or in coding & writing (if it is based on evaluation resuts) - similar to Part 2.\n",
    "\n",
    "Since this part of the assignment carries the highest mark, the explanation of your method and its evaluation should be descibed in detail.\n",
    "\n",
    "Optionally: you can also make plots to visualize your findings. "
   ]
  },
  {
   "cell_type": "raw",
   "metadata": {},
   "source": [
    "# My first idea is that I will not remove the neutral class from the data. Because I think the neutral rating is also the representation of part of customers' attitude. Although the proportion of the neutral rating is low, which causes that the predicted result is not quite accurate, we cannot ignore this rating which is also crucial for Amazon to analyze their goods. We should try to figure out how to increase the accuracy instead of ignoring it.\n",
    "\n",
    "# I decide to use Multinomial Naive Bayes as the classifier. As the data shown above, in part 3 and part 4(except 4.4), Multinomial Naive Bayes classifier usually has higher accuracy than Decision Tree Classifier and Artificial Neural Network classifier. Although sometimes the accuracy of ANN classifier is higher then MNB classifier, the predicted rate is also higher for MNB classifier when I check the value of precision, recall, and f1-score."
   ]
  },
  {
   "cell_type": "raw",
   "metadata": {},
   "source": [
    "# In part3, we can see that the preprocessing3 helps a lot to increase the accuracy of the model. Therefore, I decide to continue working on pre-processing based on preprocessing3. Below are the code and report of the training model by using preprocessing3."
   ]
  },
  {
   "cell_type": "code",
   "execution_count": 240,
   "metadata": {},
   "outputs": [
    {
     "name": "stdout",
     "output_type": "stream",
     "text": [
      "======================================================\n",
      "=============== MNBClassifier Report =================\n",
      "\n",
      "              precision    recall  f1-score   support\n",
      "\n",
      "    negative       0.59      0.12      0.20       108\n",
      "     neutral       0.20      0.03      0.05        67\n",
      "    positive       0.87      0.99      0.93      1085\n",
      "\n",
      "    accuracy                           0.86      1260\n",
      "   macro avg       0.55      0.38      0.39      1260\n",
      "weighted avg       0.81      0.86      0.82      1260\n",
      "\n"
     ]
    }
   ],
   "source": [
    "vectorizer = CountVectorizer(analyzer=lambda x: x.split())\n",
    "\n",
    "processedData = preprocessing_3(data)\n",
    "x_dense = vectorizer.fit_transform(processedData['verified_reviews'])\n",
    "x_sparse = pd.DataFrame.sparse.from_spmatrix(x_dense, columns=vectorizer.get_feature_names())\n",
    "X_train, X_test, Y_train, Y_test = train_test_split(x_sparse, processedData['rating'], test_size = 0.4, shuffle=False)\n",
    "\n",
    "\n",
    "print('======================================================')\n",
    "print('=============== MNBClassifier Report =================' + '\\n')\n",
    "\n",
    "MNBClassifier = MultinomialNB()\n",
    "TrainingModel = MNBClassifier.fit(X_train, Y_train)\n",
    "YModelTest = TrainingModel.predict(X_test)\n",
    "\n",
    "print(classification_report(Y_test, YModelTest))\n"
   ]
  },
  {
   "cell_type": "raw",
   "metadata": {},
   "source": [
    "# The next thing I consider is to tokenize the words. It is similar to the split function in python, however, the tokenization function provided by nltk seems to be more professional and accurate."
   ]
  },
  {
   "cell_type": "code",
   "execution_count": 241,
   "metadata": {},
   "outputs": [
    {
     "name": "stdout",
     "output_type": "stream",
     "text": [
      "======================================================\n",
      "=============== MNBClassifier Report =================\n",
      "\n",
      "              precision    recall  f1-score   support\n",
      "\n",
      "    negative       0.67      0.15      0.24       108\n",
      "     neutral       0.22      0.03      0.05        67\n",
      "    positive       0.87      0.99      0.93      1085\n",
      "\n",
      "    accuracy                           0.87      1260\n",
      "   macro avg       0.59      0.39      0.41      1260\n",
      "weighted avg       0.82      0.87      0.82      1260\n",
      "\n"
     ]
    }
   ],
   "source": [
    "from nltk.tokenize import word_tokenize\n",
    "# nltk.download('punkt')\n",
    "\n",
    "def preprocessingText(x):\n",
    "    \n",
    "    processedData = x.copy()\n",
    "    processedData = preprocessing_3(processedData)\n",
    "    processedData['verified_reviews'] = processedData['verified_reviews'].apply(word_tokenize) \n",
    "    return processedData\n",
    "\n",
    "processedData = preprocessingText(data)\n",
    "vectorizer = CountVectorizer(analyzer=lambda x: x)\n",
    "\n",
    "x_dense = vectorizer.fit_transform(processedData['verified_reviews'])\n",
    "x_sparse = pd.DataFrame.sparse.from_spmatrix(x_dense, columns=vectorizer.get_feature_names())\n",
    "X_train, X_test, Y_train, Y_test = train_test_split(x_sparse, processedData['rating'], test_size = 0.4, shuffle=False)\n",
    "\n",
    "\n",
    "print('======================================================')\n",
    "print('=============== MNBClassifier Report =================' + '\\n')\n",
    "\n",
    "MNBClassifier = MultinomialNB()\n",
    "TrainingModel = MNBClassifier.fit(X_train, Y_train)\n",
    "YModelTest = TrainingModel.predict(X_test)\n",
    "\n",
    "print(classification_report(Y_test, YModelTest))"
   ]
  },
  {
   "cell_type": "raw",
   "metadata": {},
   "source": [
    "# As we can see, the accuracy goes up from 0.86 to 0.87. As for each class, the value of precision, recall, and f1-score also increases. Therefore, tokenization is more helpful compared with the split function.\n",
    "\n",
    "# What's more, removing stopwords is a way to increase accuracy in my opinion. However, some stopwords in the nltk list might have a negative impact on the accuracy. So, I decide to select some stopwords by myself that definitely have no impact on the accuracy."
   ]
  },
  {
   "cell_type": "code",
   "execution_count": 207,
   "metadata": {},
   "outputs": [],
   "source": [
    "MyStopwordsList = ['i', 'we', 'our', 'you', 'he', 'his', 'she', 'how', 'where', 'why', 'which', 'when'\n",
    "                    , 'her', 'it', 'its', 'they', 'their','themselves', 'that', 'ok']"
   ]
  },
  {
   "cell_type": "code",
   "execution_count": 242,
   "metadata": {},
   "outputs": [
    {
     "name": "stdout",
     "output_type": "stream",
     "text": [
      "======================================================\n",
      "=============== MNBClassifier Report =================\n",
      "\n",
      "              precision    recall  f1-score   support\n",
      "\n",
      "    negative       0.82      0.17      0.28       108\n",
      "     neutral       0.20      0.03      0.05        67\n",
      "    positive       0.88      0.99      0.93      1085\n",
      "\n",
      "    accuracy                           0.87      1260\n",
      "   macro avg       0.63      0.40      0.42      1260\n",
      "weighted avg       0.84      0.87      0.83      1260\n",
      "\n"
     ]
    }
   ],
   "source": [
    "\n",
    "def preprocessingStopWords(x):\n",
    "\n",
    "    processedData = preprocessingText(x).copy()\n",
    "    processedData['verified_reviews'] = processedData['verified_reviews'].apply(lambda words: ' '.join(word for word in words if word not in MyStopwordsList))\n",
    "    processedData['verified_reviews'] = processedData['verified_reviews'].apply(word_tokenize) \n",
    "    return processedData\n",
    "\n",
    "processedData = preprocessingStopWords(data)\n",
    "vectorizer = CountVectorizer(analyzer=lambda x: x)\n",
    "\n",
    "x_dense = vectorizer.fit_transform(processedData['verified_reviews'])\n",
    "x_sparse = pd.DataFrame.sparse.from_spmatrix(x_dense, columns=vectorizer.get_feature_names())\n",
    "X_train, X_test, Y_train, Y_test = train_test_split(x_sparse, processedData['rating'], test_size = 0.4, shuffle=False)\n",
    "\n",
    "\n",
    "print('======================================================')\n",
    "print('=============== MNBClassifier Report =================' + '\\n')\n",
    "\n",
    "MNBClassifier = MultinomialNB()\n",
    "TrainingModel = MNBClassifier.fit(X_train, Y_train)\n",
    "YModelTest = TrainingModel.predict(X_test)\n",
    "\n",
    "print(classification_report(Y_test, YModelTest))\n"
   ]
  },
  {
   "cell_type": "raw",
   "metadata": {},
   "source": [
    "# Although the total accuracy is unchanged, there are more cases that are predicted correctly for positive class and negative class.\n",
    "\n",
    "# I think it is all for data pre-processing. Based on the preprocessing3, I add two more methods to increase the accuracy of the model. The first one is to replace the python split function with the tokenization function provided by nltk which is more professional and suitable. And then I create a new stopwords list that is more suitable to fit the circumstance.  "
   ]
  },
  {
   "cell_type": "raw",
   "metadata": {},
   "source": [
    "# Then, the parameters of train_test_split function are also needed to consider. The first thing I think is the test_size might has an impact on the accuracy. Because there is a huge difference between the proportion of the positive class and the proportion of the negative class and neutral class. We need to find an appropriate test_size to fit this situation. Shuffle may also influence the result of the model. We also need to fix the dataset, because shuffle could make the result fluctuate. Therefore, I set random_state to 42 which is a famous number, and try to change test_size and shuffle."
   ]
  },
  {
   "cell_type": "code",
   "execution_count": 260,
   "metadata": {},
   "outputs": [
    {
     "data": {
      "image/png": "[encoded data removed]",
      "text/plain": [
       "<Figure size 432x288 with 1 Axes>"
      ]
     },
     "metadata": {
      "needs_background": "light"
     },
     "output_type": "display_data"
    }
   ],
   "source": [
    "\n",
    "testsizes = [0.05, 0.1, 0.15, 0.2, 0.25, 0.3, 0.35, 0.4]\n",
    "accuracyList = []\n",
    "\n",
    "processedData = preprocessingStopWords(data)\n",
    "\n",
    "for testSize in testsizes:\n",
    "    vectorizer = CountVectorizer(analyzer=lambda x: x)\n",
    "\n",
    "    x_dense = vectorizer.fit_transform(processedData['verified_reviews'])\n",
    "    x_sparse = pd.DataFrame.sparse.from_spmatrix(x_dense, columns=vectorizer.get_feature_names())\n",
    "    X_train, X_test, Y_train, Y_test = train_test_split(x_sparse, processedData['rating'], test_size = testSize, shuffle=False, random_state=42)\n",
    "\n",
    "    MNBClassifier = MultinomialNB()\n",
    "    TrainingModel = MNBClassifier.fit(X_train, Y_train)\n",
    "    YModelTest = TrainingModel.predict(X_test)\n",
    "    accuracyList.append(round(classification_report(Y_test, YModelTest,output_dict=True).get('accuracy'), 2))\n",
    "\n",
    "plt.plot(testsizes, accuracyList, 'ro')\n",
    "plt.show()"
   ]
  },
  {
   "cell_type": "raw",
   "metadata": {},
   "source": [
    "# As we can see from the diagram when the test sizes are 0.05, 0.10, 0.15, and 0.3 and shuffle is false, the accuracy for these situations all reaches 0.89. We extract these four sizes and re-run them again with the shuffle."
   ]
  },
  {
   "cell_type": "code",
   "execution_count": 261,
   "metadata": {},
   "outputs": [
    {
     "data": {
      "image/png": "[encoded data removed]",
      "text/plain": [
       "<Figure size 432x288 with 1 Axes>"
      ]
     },
     "metadata": {
      "needs_background": "light"
     },
     "output_type": "display_data"
    }
   ],
   "source": [
    "\n",
    "testsizes = [0.05, 0.1, 0.15, 0.3]\n",
    "accuracyList = []\n",
    "\n",
    "processedData = preprocessingStopWords(data)\n",
    "\n",
    "for testSize in testsizes:\n",
    "    vectorizer = CountVectorizer(analyzer=lambda x: x)\n",
    "\n",
    "    x_dense = vectorizer.fit_transform(processedData['verified_reviews'])\n",
    "    x_sparse = pd.DataFrame.sparse.from_spmatrix(x_dense, columns=vectorizer.get_feature_names())\n",
    "    X_train, X_test, Y_train, Y_test = train_test_split(x_sparse, processedData['rating'], test_size = testSize, random_state=42)\n",
    "\n",
    "    MNBClassifier = MultinomialNB()\n",
    "    TrainingModel = MNBClassifier.fit(X_train, Y_train)\n",
    "    YModelTest = TrainingModel.predict(X_test)\n",
    "    accuracyList.append(round(classification_report(Y_test, YModelTest,output_dict=True).get('accuracy'), 2))\n",
    "\n",
    "plt.plot(testsizes, accuracyList, 'ro')\n",
    "plt.show()"
   ]
  },
  {
   "cell_type": "raw",
   "metadata": {},
   "source": [
    "# Shuffle does help improve the accuracy of the model. After that, I will print the report with 0.05 test size and 0.1 test size in order to select the best test size."
   ]
  },
  {
   "cell_type": "code",
   "execution_count": 262,
   "metadata": {},
   "outputs": [
    {
     "name": "stdout",
     "output_type": "stream",
     "text": [
      "=============== MNBClassifier Report testSize: 0.05 =================\n",
      "\n",
      "              precision    recall  f1-score   support\n",
      "\n",
      "    negative       0.80      0.53      0.64        15\n",
      "     neutral       0.00      0.00      0.00         8\n",
      "    positive       0.92      0.99      0.95       135\n",
      "\n",
      "    accuracy                           0.90       158\n",
      "   macro avg       0.57      0.51      0.53       158\n",
      "weighted avg       0.86      0.90      0.88       158\n",
      "\n",
      "=============== MNBClassifier Report testSize: 0.1 =================\n",
      "\n",
      "              precision    recall  f1-score   support\n",
      "\n",
      "    negative       0.71      0.34      0.47        29\n",
      "     neutral       0.50      0.07      0.12        14\n",
      "    positive       0.91      1.00      0.95       272\n",
      "\n",
      "    accuracy                           0.90       315\n",
      "   macro avg       0.71      0.47      0.51       315\n",
      "weighted avg       0.87      0.90      0.87       315\n",
      "\n"
     ]
    }
   ],
   "source": [
    "\n",
    "testsizes = [0.05, 0.1]\n",
    "\n",
    "processedData = preprocessingStopWords(data)\n",
    "\n",
    "for testSize in testsizes:\n",
    "    \n",
    "    vectorizer = CountVectorizer(analyzer=lambda x: x)\n",
    "\n",
    "    x_dense = vectorizer.fit_transform(processedData['verified_reviews'])\n",
    "    x_sparse = pd.DataFrame.sparse.from_spmatrix(x_dense, columns=vectorizer.get_feature_names())\n",
    "    X_train, X_test, Y_train, Y_test = train_test_split(x_sparse, processedData['rating'], test_size = testSize, random_state=42)\n",
    "\n",
    "    print(f'=============== MNBClassifier Report testSize: {testSize} =================' + '\\n')\n",
    "\n",
    "    MNBClassifier = MultinomialNB()\n",
    "    TrainingModel = MNBClassifier.fit(X_train, Y_train)\n",
    "    YModelTest = TrainingModel.predict(X_test)\n",
    "\n",
    "    print(classification_report(Y_test, YModelTest))"
   ]
  },
  {
   "cell_type": "raw",
   "metadata": {},
   "source": [
    "# We could see that these two sizes with shuffle both have 0.9 accuracies. However, neutral cases have not been predicted in the first model. The reason might be that there are rare cases in the test dataset. Therefore, 0.1 is the best choice.\n",
    "\n",
    "# I also consider adding a \"feedback\" column into the model. After I added it into my model, all the negative cases could be predicted correctly, which shows that the accuracy exceeded 0.95. However, after I carefully read the spec, I found that the \"feedback\" column is calculated from the \"rating\" column. Our purpose is to develop a reliable model that can automatically assign rating given a review. This means that the \"feedback\" column does not exist when there is no rating. Therefore, we could not use this data in the training model."
   ]
  },
  {
   "cell_type": "raw",
   "metadata": {},
   "source": [
    "# The last thing I would like to change is the parameters of the classifier. I tried to set fit_prior to False and found that the accuracy dropped dramatically. It means that learning class prior probabilities will help improve accuracy. After that, I tried to modify the alpha value which is the additive smoothing parameter. Some value definitely helped improve accuracy from 0.9 to 0.91. Below are my code and reports."
   ]
  },
  {
   "cell_type": "code",
   "execution_count": 259,
   "metadata": {},
   "outputs": [
    {
     "name": "stdout",
     "output_type": "stream",
     "text": [
      "=============== MNBClassifier Report Alpha: 0.5 =================\n",
      "\n",
      "              precision    recall  f1-score   support\n",
      "\n",
      "    negative       0.82      0.48      0.61        29\n",
      "     neutral       0.56      0.36      0.43        14\n",
      "    positive       0.93      0.99      0.96       272\n",
      "\n",
      "    accuracy                           0.91       315\n",
      "   macro avg       0.77      0.61      0.67       315\n",
      "weighted avg       0.90      0.91      0.90       315\n",
      "\n",
      "=============== MNBClassifier Report Alpha: 0.6 =================\n",
      "\n",
      "              precision    recall  f1-score   support\n",
      "\n",
      "    negative       0.82      0.48      0.61        29\n",
      "     neutral       0.50      0.29      0.36        14\n",
      "    positive       0.93      0.99      0.96       272\n",
      "\n",
      "    accuracy                           0.91       315\n",
      "   macro avg       0.75      0.59      0.64       315\n",
      "weighted avg       0.90      0.91      0.90       315\n",
      "\n",
      "=============== MNBClassifier Report Alpha: 0.7 =================\n",
      "\n",
      "              precision    recall  f1-score   support\n",
      "\n",
      "    negative       0.82      0.48      0.61        29\n",
      "     neutral       0.57      0.29      0.38        14\n",
      "    positive       0.92      0.99      0.96       272\n",
      "\n",
      "    accuracy                           0.91       315\n",
      "   macro avg       0.77      0.59      0.65       315\n",
      "weighted avg       0.90      0.91      0.90       315\n",
      "\n",
      "=============== MNBClassifier Report Alpha: 0.8 =================\n",
      "\n",
      "              precision    recall  f1-score   support\n",
      "\n",
      "    negative       0.88      0.48      0.62        29\n",
      "     neutral       0.60      0.21      0.32        14\n",
      "    positive       0.92      0.99      0.95       272\n",
      "\n",
      "    accuracy                           0.91       315\n",
      "   macro avg       0.80      0.56      0.63       315\n",
      "weighted avg       0.90      0.91      0.90       315\n",
      "\n",
      "=============== MNBClassifier Report Alpha: 0.9 =================\n",
      "\n",
      "              precision    recall  f1-score   support\n",
      "\n",
      "    negative       0.78      0.48      0.60        29\n",
      "     neutral       0.50      0.07      0.12        14\n",
      "    positive       0.92      1.00      0.96       272\n",
      "\n",
      "    accuracy                           0.91       315\n",
      "   macro avg       0.73      0.52      0.56       315\n",
      "weighted avg       0.89      0.91      0.89       315\n",
      "\n"
     ]
    }
   ],
   "source": [
    "\n",
    "for alpha in [0.5, 0.6, 0.7, 0.8, 0.9]:\n",
    "    \n",
    "    processedData = preprocessingStopWords(data)\n",
    "    vectorizer = CountVectorizer(analyzer=lambda x: x)\n",
    "\n",
    "    x_dense = vectorizer.fit_transform(processedData['verified_reviews'])\n",
    "    x_sparse = pd.DataFrame.sparse.from_spmatrix(x_dense, columns=vectorizer.get_feature_names())\n",
    "    X_train, X_test, Y_train, Y_test = train_test_split(x_sparse, processedData['rating'], test_size = 0.1, random_state=42)\n",
    "\n",
    "    print(f'=============== MNBClassifier Report Alpha: {alpha} =================' + '\\n')\n",
    "\n",
    "    MNBClassifier = MultinomialNB(alpha = alpha)\n",
    "    TrainingModel = MNBClassifier.fit(X_train, Y_train)\n",
    "    YModelTest = TrainingModel.predict(X_test)\n",
    "\n",
    "    print(classification_report(Y_test, YModelTest))"
   ]
  },
  {
   "cell_type": "raw",
   "metadata": {},
   "source": [
    "# As shown above, these 5 alpha values could improve the accuracy from 0.9 to 0.91. The best one is when the alpha is 0.5. It has the best f1-score for all three classes across these 5 alpha values.\n",
    "\n",
    "# Therefore my new model has been created. I did 2 more pre-processing of the reviews, modified the test_size and shuffle situation, and modified the alpha value for the classifier. Below is the complete code of my new mode. The preprocessing function is written above."
   ]
  },
  {
   "cell_type": "code",
   "execution_count": 264,
   "metadata": {},
   "outputs": [
    {
     "name": "stdout",
     "output_type": "stream",
     "text": [
      "=============== MNBClassifier Report =================\n",
      "\n",
      "              precision    recall  f1-score   support\n",
      "\n",
      "    negative       0.82      0.48      0.61        29\n",
      "     neutral       0.56      0.36      0.43        14\n",
      "    positive       0.93      0.99      0.96       272\n",
      "\n",
      "    accuracy                           0.91       315\n",
      "   macro avg       0.77      0.61      0.67       315\n",
      "weighted avg       0.90      0.91      0.90       315\n",
      "\n"
     ]
    }
   ],
   "source": [
    "\n",
    "processedData = preprocessingStopWords(data)\n",
    "vectorizer = CountVectorizer(analyzer=lambda x: x)\n",
    "\n",
    "x_dense = vectorizer.fit_transform(processedData['verified_reviews'])\n",
    "x_sparse = pd.DataFrame.sparse.from_spmatrix(x_dense, columns=vectorizer.get_feature_names())\n",
    "X_train, X_test, Y_train, Y_test = train_test_split(x_sparse, processedData['rating'], test_size = 0.1, random_state=42)\n",
    "\n",
    "print(f'=============== MNBClassifier Report =================' + '\\n')\n",
    "\n",
    "MNBClassifier = MultinomialNB(alpha = 0.5)\n",
    "TrainingModel = MNBClassifier.fit(X_train, Y_train)\n",
    "YModelTest = TrainingModel.predict(X_test)\n",
    "\n",
    "print(classification_report(Y_test, YModelTest))"
   ]
  },
  {
   "cell_type": "raw",
   "metadata": {},
   "source": [
    "# Let's compare the original model and the new model performance. Below are the reports.\n",
    "\n",
    "======================================================\n",
    "========== MNBClassifier Original Report =============\n",
    "\n",
    "              precision    recall  f1-score   support\n",
    "\n",
    "    negative       0.59      0.12      0.20       108\n",
    "     neutral       0.20      0.03      0.05        67\n",
    "    positive       0.87      0.99      0.93      1085\n",
    "\n",
    "    accuracy                           0.86      1260\n",
    "   macro avg       0.55      0.38      0.39      1260\n",
    "weighted avg       0.81      0.86      0.82      1260\n",
    "\n",
    "======================================================\n",
    "============ MNBClassifier New Report ================\n",
    "\n",
    "              precision    recall  f1-score   support\n",
    "\n",
    "    negative       0.82      0.48      0.61        29\n",
    "     neutral       0.56      0.36      0.43        14\n",
    "    positive       0.93      0.99      0.96       272\n",
    "\n",
    "    accuracy                           0.91       315\n",
    "   macro avg       0.77      0.61      0.67       315\n",
    "weighted avg       0.90      0.91      0.90       315"
   ]
  },
  {
   "cell_type": "raw",
   "metadata": {},
   "source": [
    "# In conclusion, the new model has a big improvement in accuracy compared with the original model. The values of precision, recall, and f1-score increase dramatically as well across all the three classes(positive, negative, neutral)"
   ]
  }
 ],
 "metadata": {
  "kernelspec": {
   "display_name": "Python 3",
   "language": "python",
   "name": "python3"
  },
  "language_info": {
   "codemirror_mode": {
    "name": "ipython",
    "version": 3
   },
   "file_extension": ".py",
   "mimetype": "text/x-python",
   "name": "python",
   "nbconvert_exporter": "python",
   "pygments_lexer": "ipython3",
   "version": "3.8.2"
  }
 },
 "nbformat": 4,
 "nbformat_minor": 4
}
